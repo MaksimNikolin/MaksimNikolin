{
 "cells": [
  {
   "cell_type": "markdown",
   "id": "e500b205",
   "metadata": {},
   "source": [
    "# Import"
   ]
  },
  {
   "cell_type": "code",
   "execution_count": 1,
   "id": "618b46bc",
   "metadata": {},
   "outputs": [],
   "source": [
    "import warnings\n",
    "warnings.filterwarnings('ignore')\n",
    "\n",
    "import pandas as pd\n",
    "import numpy as np\n",
    "import matplotlib.pyplot as plt\n",
    "import scipy\n",
    "\n",
    "from sklearn.preprocessing import LabelEncoder\n",
    "from sklearn.model_selection import train_test_split, cross_val_score, RepeatedStratifiedKFold\n",
    "from sklearn.metrics import accuracy_score"
   ]
  },
  {
   "cell_type": "code",
   "execution_count": 2,
   "id": "2feff062",
   "metadata": {},
   "outputs": [],
   "source": [
    "rootpath = \"~\\OneDrive\\Desktop\\Born_to_cook\\Programming\\DS\\datasets\\spaceship_titanic\"\n",
    "\n",
    "sample_submission = pd.read_csv(rootpath + r\"\\sample_submission.csv\")\n",
    "train = pd.read_csv(rootpath + r\"\\train.csv\")\n",
    "test = pd.read_csv(rootpath + r\"\\test.csv\")"
   ]
  },
  {
   "cell_type": "markdown",
   "id": "1859bc9a",
   "metadata": {},
   "source": [
    "# EDA"
   ]
  },
  {
   "cell_type": "code",
   "execution_count": 3,
   "id": "fe4a74fc",
   "metadata": {},
   "outputs": [],
   "source": [
    "df = pd.concat([train, test])"
   ]
  },
  {
   "cell_type": "code",
   "execution_count": 4,
   "id": "940d8a59",
   "metadata": {},
   "outputs": [],
   "source": [
    "df = df.set_index('PassengerId')"
   ]
  },
  {
   "cell_type": "code",
   "execution_count": 5,
   "id": "140ab083",
   "metadata": {},
   "outputs": [],
   "source": [
    "def summary(text, df):\n",
    "    print(f'{text} shape: {df.shape}')\n",
    "    summ = pd.DataFrame(df.dtypes, columns=['dtypes'])\n",
    "    summ['null'] = df.isnull().sum()\n",
    "    summ['unique'] = df.nunique()\n",
    "    summ['min'] = df.min()\n",
    "    summ['median'] = df.median()\n",
    "    summ['max'] = df.max()\n",
    "    summ['mean'] = df.mean()\n",
    "    summ['std'] = df.std()\n",
    "    return summ"
   ]
  },
  {
   "cell_type": "markdown",
   "id": "155c5e07",
   "metadata": {},
   "source": [
    "## Age"
   ]
  },
  {
   "cell_type": "code",
   "execution_count": 6,
   "id": "96026724",
   "metadata": {},
   "outputs": [],
   "source": [
    "age_mean = df[\"Age\"].mean()\n",
    "age_std = df[\"Age\"].std()\n",
    "\n",
    "rand_sample = np.random.uniform(age_mean - age_std, age_mean + age_std, size = df[\"Age\"].isnull().sum())\n",
    "df.loc[df['Age'].isna(), 'Age'] = rand_sample"
   ]
  },
  {
   "cell_type": "markdown",
   "id": "891b91ad",
   "metadata": {},
   "source": [
    "## Cabin"
   ]
  },
  {
   "cell_type": "code",
   "execution_count": 7,
   "id": "33d10416",
   "metadata": {},
   "outputs": [],
   "source": [
    "tmp = np.array(df['Cabin'].apply(lambda x: ['-1', '-1', '-1'] if type(x)==float else x.split('/')).to_list())\n",
    "\n",
    "df['Cabin_deck'] = tmp[:, 0]\n",
    "df['Cabin_num'] = tmp[:, 1]\n",
    "df['Cabin_side'] = tmp[:, 2]"
   ]
  },
  {
   "cell_type": "code",
   "execution_count": 8,
   "id": "6ed53fff",
   "metadata": {},
   "outputs": [],
   "source": [
    "df.drop(columns='Cabin', inplace=True)"
   ]
  },
  {
   "cell_type": "code",
   "execution_count": 9,
   "id": "cb920a7b",
   "metadata": {},
   "outputs": [],
   "source": [
    "df.loc[df['Cabin_deck']=='-1','Cabin_deck'] = np.random.choice(\n",
    "    ['F','G','E','B','C','D','A'], sum(df['Cabin_deck']=='-1'), \n",
    "    p=[0.3349, 0.2986, 0.1045, 0.0901, 0.087, 0.0569, 0.028])\n",
    "\n",
    "df['Cabin_deck'] = df['Cabin_deck'].map({'F': 0, 'G': 1, 'E': 2, 'B': 3, 'C': 4, 'D': 5, 'A': 6, 'T': 7})"
   ]
  },
  {
   "cell_type": "code",
   "execution_count": 10,
   "id": "bf152a24",
   "metadata": {},
   "outputs": [],
   "source": [
    "df['Cabin_num'] = df['Cabin_num'].astype(int)\n",
    "\n",
    "df.loc[df['Cabin_num']=='-1', 'Cabin_num'] = int(df['Cabin_num'].mean())"
   ]
  },
  {
   "cell_type": "code",
   "execution_count": 11,
   "id": "3879d647",
   "metadata": {},
   "outputs": [],
   "source": [
    "df.loc[df['Cabin_side']=='-1', 'Cabin_side'] = np.random.choice(['S', 'P'], sum(df['Cabin_side']=='-1'), \n",
    "                                                                p=[0.5036, 0.4964])\n",
    "\n",
    "df['Cabin_side'] = df['Cabin_side'].map({'S': 0, 'P': 1})"
   ]
  },
  {
   "cell_type": "markdown",
   "id": "bc8e0728",
   "metadata": {},
   "source": [
    "## Categorical features"
   ]
  },
  {
   "cell_type": "code",
   "execution_count": 12,
   "id": "5ee81876",
   "metadata": {},
   "outputs": [],
   "source": [
    "df.loc[df['HomePlanet'].isna(), 'HomePlanet'] = np.random.choice(\n",
    "    ['Earth', 'Europa', 'Mars'], \n",
    "    sum(df['HomePlanet'].isna()), \n",
    "    p=[0.5413, 0.247, 0.2117])\n",
    "\n",
    "df['HomePlanet'] = df['HomePlanet'].map({'Earth': 0, 'Europa': 1, 'Mars': 2})"
   ]
  },
  {
   "cell_type": "code",
   "execution_count": 13,
   "id": "5e6876fa",
   "metadata": {},
   "outputs": [],
   "source": [
    "df.loc[df['Destination'].isna(), 'Destination'] = np.random.choice(\n",
    "    ['TRAPPIST-1e', '55 Cancri e', 'PSO J318.5-22'], \n",
    "    sum(df['Destination'].isna()), \n",
    "    p=[0.7, 0.208, 0.092])\n",
    "\n",
    "df['Destination'] = df['Destination'].map({'TRAPPIST-1e': 0, '55 Cancri e': 1, 'PSO J318.5-22': 2})"
   ]
  },
  {
   "cell_type": "markdown",
   "id": "e451ebb9",
   "metadata": {},
   "source": [
    "## Nonstandard features"
   ]
  },
  {
   "cell_type": "code",
   "execution_count": 14,
   "id": "efbecb24",
   "metadata": {},
   "outputs": [
    {
     "data": {
      "image/png": "[encoded data removed]",
      "text/plain": [
       "<Figure size 1200x500 with 5 Axes>"
      ]
     },
     "metadata": {},
     "output_type": "display_data"
    }
   ],
   "source": [
    "cols = ['RoomService', 'FoodCourt', 'ShoppingMall', 'Spa', 'VRDeck']\n",
    "\n",
    "fig = plt.figure(figsize=(12, 5))\n",
    "for i in range (0, len(cols)):\n",
    "    fig.add_subplot(2, 3, i+1).hist(df[cols[i]], bins=30, alpha=0.7, color='green', ec='black')"
   ]
  },
  {
   "cell_type": "code",
   "execution_count": 15,
   "id": "e7e30274",
   "metadata": {},
   "outputs": [],
   "source": [
    "for col in cols:\n",
    "    df[col].fillna(df[col].median(), inplace=True)"
   ]
  },
  {
   "cell_type": "markdown",
   "id": "db93ec99",
   "metadata": {},
   "source": [
    "## Bool features"
   ]
  },
  {
   "cell_type": "code",
   "execution_count": 16,
   "id": "135d0399",
   "metadata": {},
   "outputs": [],
   "source": [
    "df.loc[df['CryoSleep'].isna(), 'CryoSleep'] = np.random.choice([True, False],\n",
    "                                                                sum(df['CryoSleep'].isna()),\n",
    "                                                                p=[0.362, 0.638])\n",
    "df['CryoSleep'] = df['CryoSleep'].astype(int)\n",
    "\n",
    "df.loc[df['VIP'].isna(), 'VIP'] = np.random.choice([True, False],\n",
    "                                                    sum(df['VIP'].isna()),\n",
    "                                                    p=[0.022, 0.978])\n",
    "df['VIP'] = df['VIP'].astype(int)"
   ]
  },
  {
   "cell_type": "markdown",
   "id": "be9da590",
   "metadata": {},
   "source": [
    "## Name (LabelEncoder)"
   ]
  },
  {
   "cell_type": "code",
   "execution_count": 17,
   "id": "6d74e870",
   "metadata": {},
   "outputs": [],
   "source": [
    "df['Name'].fillna('Unk Unk', inplace=True)"
   ]
  },
  {
   "cell_type": "code",
   "execution_count": 18,
   "id": "ef9e95f7",
   "metadata": {},
   "outputs": [],
   "source": [
    "tmp = np.array(df['Name'].apply(lambda x: x if type(x)==float else x.split(' ')).to_list())\n",
    "\n",
    "df['Name_first'] = tmp[:, 0]\n",
    "df['Name_last'] = tmp[:, 1]"
   ]
  },
  {
   "cell_type": "code",
   "execution_count": 19,
   "id": "d246f57b",
   "metadata": {},
   "outputs": [],
   "source": [
    "label_encoder = LabelEncoder()\n",
    "df[\"Name_first\"] = label_encoder.fit_transform(df.loc[:, \"Name_first\"])\n",
    "\n",
    "label_encoder = LabelEncoder()\n",
    "df[\"Name_last\"] = label_encoder.fit_transform(df.loc[:, \"Name_last\"])"
   ]
  },
  {
   "cell_type": "code",
   "execution_count": 20,
   "id": "96087b08",
   "metadata": {},
   "outputs": [],
   "source": [
    "df.drop(['Name'], axis=1, inplace=True)"
   ]
  },
  {
   "cell_type": "markdown",
   "id": "79255b2d",
   "metadata": {},
   "source": [
    "# Summary dataset"
   ]
  },
  {
   "cell_type": "code",
   "execution_count": 21,
   "id": "b5ec701b",
   "metadata": {},
   "outputs": [
    {
     "name": "stdout",
     "output_type": "stream",
     "text": [
      "df shape: (12970, 16)\n"
     ]
    },
    {
     "data": {
      "text/html": [
       "<div>\n",
       "<style scoped>\n",
       "    .dataframe tbody tr th:only-of-type {\n",
       "        vertical-align: middle;\n",
       "    }\n",
       "\n",
       "    .dataframe tbody tr th {\n",
       "        vertical-align: top;\n",
       "    }\n",
       "\n",
       "    .dataframe thead th {\n",
       "        text-align: right;\n",
       "    }\n",
       "</style>\n",
       "<table border=\"1\" class=\"dataframe\">\n",
       "  <thead>\n",
       "    <tr style=\"text-align: right;\">\n",
       "      <th></th>\n",
       "      <th>dtypes</th>\n",
       "      <th>null</th>\n",
       "      <th>unique</th>\n",
       "      <th>min</th>\n",
       "      <th>median</th>\n",
       "      <th>max</th>\n",
       "      <th>mean</th>\n",
       "      <th>std</th>\n",
       "    </tr>\n",
       "  </thead>\n",
       "  <tbody>\n",
       "    <tr>\n",
       "      <th>HomePlanet</th>\n",
       "      <td>int64</td>\n",
       "      <td>0</td>\n",
       "      <td>3</td>\n",
       "      <td>0</td>\n",
       "      <td>0.0</td>\n",
       "      <td>2</td>\n",
       "      <td>0.669854</td>\n",
       "      <td>0.802317</td>\n",
       "    </tr>\n",
       "    <tr>\n",
       "      <th>CryoSleep</th>\n",
       "      <td>int32</td>\n",
       "      <td>0</td>\n",
       "      <td>2</td>\n",
       "      <td>0</td>\n",
       "      <td>0.0</td>\n",
       "      <td>1</td>\n",
       "      <td>0.362221</td>\n",
       "      <td>0.480661</td>\n",
       "    </tr>\n",
       "    <tr>\n",
       "      <th>Destination</th>\n",
       "      <td>int64</td>\n",
       "      <td>0</td>\n",
       "      <td>3</td>\n",
       "      <td>0</td>\n",
       "      <td>0.0</td>\n",
       "      <td>2</td>\n",
       "      <td>0.393832</td>\n",
       "      <td>0.651594</td>\n",
       "    </tr>\n",
       "    <tr>\n",
       "      <th>Age</th>\n",
       "      <td>float64</td>\n",
       "      <td>0</td>\n",
       "      <td>350</td>\n",
       "      <td>0.0</td>\n",
       "      <td>27.0</td>\n",
       "      <td>79.0</td>\n",
       "      <td>28.776952</td>\n",
       "      <td>14.286256</td>\n",
       "    </tr>\n",
       "    <tr>\n",
       "      <th>VIP</th>\n",
       "      <td>int32</td>\n",
       "      <td>0</td>\n",
       "      <td>2</td>\n",
       "      <td>0</td>\n",
       "      <td>0.0</td>\n",
       "      <td>1</td>\n",
       "      <td>0.021588</td>\n",
       "      <td>0.145340</td>\n",
       "    </tr>\n",
       "    <tr>\n",
       "      <th>RoomService</th>\n",
       "      <td>float64</td>\n",
       "      <td>0</td>\n",
       "      <td>1578</td>\n",
       "      <td>0.0</td>\n",
       "      <td>0.0</td>\n",
       "      <td>14327.0</td>\n",
       "      <td>218.378026</td>\n",
       "      <td>641.766201</td>\n",
       "    </tr>\n",
       "    <tr>\n",
       "      <th>FoodCourt</th>\n",
       "      <td>float64</td>\n",
       "      <td>0</td>\n",
       "      <td>1953</td>\n",
       "      <td>0.0</td>\n",
       "      <td>0.0</td>\n",
       "      <td>29813.0</td>\n",
       "      <td>441.890979</td>\n",
       "      <td>1568.038076</td>\n",
       "    </tr>\n",
       "    <tr>\n",
       "      <th>ShoppingMall</th>\n",
       "      <td>float64</td>\n",
       "      <td>0</td>\n",
       "      <td>1367</td>\n",
       "      <td>0.0</td>\n",
       "      <td>0.0</td>\n",
       "      <td>23492.0</td>\n",
       "      <td>170.779491</td>\n",
       "      <td>584.153630</td>\n",
       "    </tr>\n",
       "    <tr>\n",
       "      <th>Spa</th>\n",
       "      <td>float64</td>\n",
       "      <td>0</td>\n",
       "      <td>1679</td>\n",
       "      <td>0.0</td>\n",
       "      <td>0.0</td>\n",
       "      <td>22408.0</td>\n",
       "      <td>301.722282</td>\n",
       "      <td>1118.746785</td>\n",
       "    </tr>\n",
       "    <tr>\n",
       "      <th>VRDeck</th>\n",
       "      <td>float64</td>\n",
       "      <td>0</td>\n",
       "      <td>1642</td>\n",
       "      <td>0.0</td>\n",
       "      <td>0.0</td>\n",
       "      <td>24133.0</td>\n",
       "      <td>300.450270</td>\n",
       "      <td>1168.655639</td>\n",
       "    </tr>\n",
       "    <tr>\n",
       "      <th>Transported</th>\n",
       "      <td>object</td>\n",
       "      <td>4277</td>\n",
       "      <td>2</td>\n",
       "      <td>False</td>\n",
       "      <td>1.0</td>\n",
       "      <td>True</td>\n",
       "      <td>0.503624</td>\n",
       "      <td>0.500016</td>\n",
       "    </tr>\n",
       "    <tr>\n",
       "      <th>Cabin_deck</th>\n",
       "      <td>int64</td>\n",
       "      <td>0</td>\n",
       "      <td>8</td>\n",
       "      <td>0</td>\n",
       "      <td>1.0</td>\n",
       "      <td>7</td>\n",
       "      <td>1.584734</td>\n",
       "      <td>1.700022</td>\n",
       "    </tr>\n",
       "    <tr>\n",
       "      <th>Cabin_num</th>\n",
       "      <td>int32</td>\n",
       "      <td>0</td>\n",
       "      <td>1895</td>\n",
       "      <td>-1</td>\n",
       "      <td>409.0</td>\n",
       "      <td>1894</td>\n",
       "      <td>589.663917</td>\n",
       "      <td>515.001595</td>\n",
       "    </tr>\n",
       "    <tr>\n",
       "      <th>Cabin_side</th>\n",
       "      <td>int64</td>\n",
       "      <td>0</td>\n",
       "      <td>2</td>\n",
       "      <td>0</td>\n",
       "      <td>0.0</td>\n",
       "      <td>1</td>\n",
       "      <td>0.496916</td>\n",
       "      <td>0.500010</td>\n",
       "    </tr>\n",
       "    <tr>\n",
       "      <th>Name_first</th>\n",
       "      <td>int32</td>\n",
       "      <td>0</td>\n",
       "      <td>2884</td>\n",
       "      <td>0</td>\n",
       "      <td>1458.0</td>\n",
       "      <td>2883</td>\n",
       "      <td>1459.651735</td>\n",
       "      <td>824.214600</td>\n",
       "    </tr>\n",
       "    <tr>\n",
       "      <th>Name_last</th>\n",
       "      <td>int32</td>\n",
       "      <td>0</td>\n",
       "      <td>2407</td>\n",
       "      <td>0</td>\n",
       "      <td>1223.0</td>\n",
       "      <td>2406</td>\n",
       "      <td>1218.538088</td>\n",
       "      <td>703.482429</td>\n",
       "    </tr>\n",
       "  </tbody>\n",
       "</table>\n",
       "</div>"
      ],
      "text/plain": [
       "               dtypes  null  unique    min  median      max         mean  \\\n",
       "HomePlanet      int64     0       3      0     0.0        2     0.669854   \n",
       "CryoSleep       int32     0       2      0     0.0        1     0.362221   \n",
       "Destination     int64     0       3      0     0.0        2     0.393832   \n",
       "Age           float64     0     350    0.0    27.0     79.0    28.776952   \n",
       "VIP             int32     0       2      0     0.0        1     0.021588   \n",
       "RoomService   float64     0    1578    0.0     0.0  14327.0   218.378026   \n",
       "FoodCourt     float64     0    1953    0.0     0.0  29813.0   441.890979   \n",
       "ShoppingMall  float64     0    1367    0.0     0.0  23492.0   170.779491   \n",
       "Spa           float64     0    1679    0.0     0.0  22408.0   301.722282   \n",
       "VRDeck        float64     0    1642    0.0     0.0  24133.0   300.450270   \n",
       "Transported    object  4277       2  False     1.0     True     0.503624   \n",
       "Cabin_deck      int64     0       8      0     1.0        7     1.584734   \n",
       "Cabin_num       int32     0    1895     -1   409.0     1894   589.663917   \n",
       "Cabin_side      int64     0       2      0     0.0        1     0.496916   \n",
       "Name_first      int32     0    2884      0  1458.0     2883  1459.651735   \n",
       "Name_last       int32     0    2407      0  1223.0     2406  1218.538088   \n",
       "\n",
       "                      std  \n",
       "HomePlanet       0.802317  \n",
       "CryoSleep        0.480661  \n",
       "Destination      0.651594  \n",
       "Age             14.286256  \n",
       "VIP              0.145340  \n",
       "RoomService    641.766201  \n",
       "FoodCourt     1568.038076  \n",
       "ShoppingMall   584.153630  \n",
       "Spa           1118.746785  \n",
       "VRDeck        1168.655639  \n",
       "Transported      0.500016  \n",
       "Cabin_deck       1.700022  \n",
       "Cabin_num      515.001595  \n",
       "Cabin_side       0.500010  \n",
       "Name_first     824.214600  \n",
       "Name_last      703.482429  "
      ]
     },
     "execution_count": 21,
     "metadata": {},
     "output_type": "execute_result"
    }
   ],
   "source": [
    "summary('df', df)"
   ]
  },
  {
   "cell_type": "code",
   "execution_count": 22,
   "id": "24542e66",
   "metadata": {},
   "outputs": [],
   "source": [
    "train = df.iloc[:8693,:]\n",
    "test = df.iloc[8693:,:]"
   ]
  },
  {
   "cell_type": "code",
   "execution_count": 23,
   "id": "0a89c739",
   "metadata": {},
   "outputs": [],
   "source": [
    "train['Transported'] = train['Transported'].astype('int64')"
   ]
  },
  {
   "cell_type": "code",
   "execution_count": 24,
   "id": "1d15c51a",
   "metadata": {},
   "outputs": [],
   "source": [
    "X_train, X_valid, y_train, y_valid = train_test_split(train.drop(['Transported'], axis=1), \n",
    "                                                      train[['Transported']],\n",
    "                                                      test_size=0.3, random_state=42)"
   ]
  },
  {
   "cell_type": "markdown",
   "id": "d76709a2",
   "metadata": {},
   "source": [
    "## XGBoost, LightGBM, CatBoost"
   ]
  },
  {
   "cell_type": "code",
   "execution_count": 25,
   "id": "0b4e1a10",
   "metadata": {},
   "outputs": [],
   "source": [
    "from lightgbm import LGBMClassifier\n",
    "from xgboost import XGBClassifier\n",
    "from catboost import CatBoostClassifier"
   ]
  },
  {
   "cell_type": "code",
   "execution_count": 26,
   "id": "e0d7a58c",
   "metadata": {},
   "outputs": [],
   "source": [
    "clf_xgb = XGBClassifier('binary:logistic', colsample_bytree=0.4603, gamma=0.0468, \n",
    "                                           learning_rate=0.05, max_depth=10, \n",
    "                                           min_child_weight=1.7817, n_estimators=1500,\n",
    "                                           reg_alpha=4.5, reg_lambda=8.5,\n",
    "                                           subsample=0.5213, random_state=42)\n",
    "clf_lgb = LGBMClassifier()\n",
    "clf_cat = CatBoostClassifier(verbose=False)"
   ]
  },
  {
   "cell_type": "code",
   "execution_count": 27,
   "id": "83e5c4a9",
   "metadata": {},
   "outputs": [],
   "source": [
    "x, y = X_train, y_train\n",
    "\n",
    "cv_xgb = cross_val_score(clf_xgb, x, y, cv=5, scoring='accuracy').mean()\n",
    "cv_lgbm = cross_val_score(clf_lgb, x, y, cv=5, scoring='accuracy').mean()\n",
    "cv_cat = cross_val_score(clf_cat, x, y, cv=5, scoring='accuracy').mean()"
   ]
  },
  {
   "cell_type": "code",
   "execution_count": 28,
   "id": "85bd5b4a",
   "metadata": {},
   "outputs": [
    {
     "data": {
      "text/plain": [
       "<catboost.core.CatBoostClassifier at 0x287f8905ac0>"
      ]
     },
     "execution_count": 28,
     "metadata": {},
     "output_type": "execute_result"
    }
   ],
   "source": [
    "clf_xgb.fit(x, y,\n",
    "            eval_set=[(X_valid, y_valid)],\n",
    "            early_stopping_rounds=25,\n",
    "            verbose=False)\n",
    "\n",
    "clf_lgb.fit(x, y,\n",
    "            eval_set=[(X_valid, y_valid)],\n",
    "            early_stopping_rounds=25,\n",
    "            verbose=False)\n",
    "\n",
    "clf_cat.fit(x, y,\n",
    "            eval_set=[(X_valid, y_valid)],\n",
    "            early_stopping_rounds=25,\n",
    "            verbose=False)"
   ]
  },
  {
   "cell_type": "code",
   "execution_count": 29,
   "id": "6c0fdd8c",
   "metadata": {},
   "outputs": [],
   "source": [
    "y_pred_xgb = clf_xgb.predict(X_valid)\n",
    "y_pred_lgbm = clf_lgb.predict(X_valid)\n",
    "y_pred_cat = clf_cat.predict(X_valid)"
   ]
  },
  {
   "cell_type": "code",
   "execution_count": 30,
   "id": "a3d4b47b",
   "metadata": {},
   "outputs": [
    {
     "name": "stdout",
     "output_type": "stream",
     "text": [
      "XGBoost CV Accuracy:  0.8031224322103533\n",
      "LightGBM CV Accuracy:  0.8027937551355793\n",
      "CatBoost CV Accuracy:  0.8144617912900577\n"
     ]
    }
   ],
   "source": [
    "print(\"XGBoost CV Accuracy: \", cv_xgb)\n",
    "print(\"LightGBM CV Accuracy: \", cv_lgbm)\n",
    "print(\"CatBoost CV Accuracy: \", cv_cat)"
   ]
  },
  {
   "cell_type": "code",
   "execution_count": 31,
   "id": "10d5699c",
   "metadata": {},
   "outputs": [
    {
     "name": "stdout",
     "output_type": "stream",
     "text": [
      "validation xgb score: 0.8006134969325154\n",
      "validation lgbm score: 0.7963957055214724\n",
      "validation CatBoost score: 0.7983128834355828\n"
     ]
    }
   ],
   "source": [
    "print('validation xgb score:', accuracy_score(y_pred_xgb, y_valid.values))\n",
    "print('validation lgbm score:', accuracy_score(y_pred_lgbm, y_valid.values))\n",
    "print('validation CatBoost score:', accuracy_score(y_pred_cat, y_valid.values))"
   ]
  },
  {
   "cell_type": "markdown",
   "id": "5cd2dd79",
   "metadata": {},
   "source": [
    "## Hyper parameter Tuning"
   ]
  },
  {
   "cell_type": "code",
   "execution_count": 32,
   "id": "49d44690",
   "metadata": {},
   "outputs": [],
   "source": [
    "X = train.drop('Transported', axis=1).copy()\n",
    "y = train[['Transported']].copy()\n",
    "\n",
    "X.reset_index(drop=True, inplace=True)\n",
    "y.reset_index(drop=True, inplace=True)\n",
    "\n",
    "X = X.values\n",
    "y = y.values"
   ]
  },
  {
   "cell_type": "code",
   "execution_count": 33,
   "id": "d52e1d43",
   "metadata": {},
   "outputs": [],
   "source": [
    "Seed = 7\n",
    "kfold = RepeatedStratifiedKFold(n_splits=10, n_repeats=2, random_state=Seed)\n",
    "def objective(trial):\n",
    "    params = {\n",
    "        'iterations': 1000,\n",
    "        'learning_rate': trial.suggest_loguniform('learning_rate', 0.01, 0.1),\n",
    "        'depth': trial.suggest_int('depth', 4, 16),\n",
    "        'l2_leaf_reg': trial.suggest_loguniform('l2_leaf_reg', 1e-8, 10.0),\n",
    "        'border_count': trial.suggest_int('border_count', 32, 255),\n",
    "        'thread_count': -1,\n",
    "        'verbose': False\n",
    "    }\n",
    "    scores = []\n",
    "    for train_idx, valid_idx in kfold.split(X, y):\n",
    "        X_train, y_train = X[train_idx], y[train_idx]\n",
    "        X_valid, y_valid = X[valid_idx], y[valid_idx]\n",
    "        model = CatBoostClassifier(**params)\n",
    "        model.fit(X_train, y_train, eval_set=[(X_valid, y_valid)], early_stopping_rounds=20, verbose=False)\n",
    "        y_prob = model.predict(X_valid)\n",
    "        score = accuracy_score(y_valid,y_prob)\n",
    "        scores.append(score)\n",
    "    \n",
    "    mean_score = np.mean(scores)\n",
    "    return mean_score"
   ]
  },
  {
   "cell_type": "code",
   "execution_count": 34,
   "id": "0768ed96",
   "metadata": {},
   "outputs": [
    {
     "data": {
      "text/plain": [
       "<catboost.core.CatBoostClassifier at 0x287f9a4deb0>"
      ]
     },
     "execution_count": 34,
     "metadata": {},
     "output_type": "execute_result"
    }
   ],
   "source": [
    "best_params = {'learning_rate': 0.018049356549743555,\n",
    " 'depth': 6,\n",
    " 'l2_leaf_reg': 7.838880563296214,\n",
    " 'border_count': 182,\n",
    " 'verbose' : False}\n",
    "\n",
    "final_model = CatBoostClassifier(**best_params)\n",
    "final_model.fit(X, y)"
   ]
  },
  {
   "cell_type": "code",
   "execution_count": 35,
   "id": "b714e8f7",
   "metadata": {},
   "outputs": [],
   "source": [
    "test.drop(['Transported'], axis=1, inplace=True)\n",
    "y_pred = final_model.predict(test)"
   ]
  },
  {
   "cell_type": "code",
   "execution_count": 36,
   "id": "269e1d0c",
   "metadata": {},
   "outputs": [],
   "source": [
    "df_submit = pd.DataFrame({'PassengerId': test.index,\n",
    "                          'Transported': y_pred})\n",
    "\n",
    "df_submit[\"Transported\"] = np.where(df_submit[\"Transported\"] == 1, True, False)"
   ]
  },
  {
   "cell_type": "code",
   "execution_count": 37,
   "id": "d533fc52",
   "metadata": {},
   "outputs": [],
   "source": [
    "df_submit.to_csv(rootpath + \"/submission.csv\", index=False)"
   ]
  }
 ],
 "metadata": {
  "kernelspec": {
   "display_name": "Python 3 (ipykernel)",
   "language": "python",
   "name": "python3"
  },
  "language_info": {
   "codemirror_mode": {
    "name": "ipython",
    "version": 3
   },
   "file_extension": ".py",
   "mimetype": "text/x-python",
   "name": "python",
   "nbconvert_exporter": "python",
   "pygments_lexer": "ipython3",
   "version": "3.9.13"
  }
 },
 "nbformat": 4,
 "nbformat_minor": 5
}
