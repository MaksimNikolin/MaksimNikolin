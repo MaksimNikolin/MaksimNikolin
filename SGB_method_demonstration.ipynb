{
 "cells": [
  {
   "cell_type": "code",
   "execution_count": 90,
   "id": "0287f743",
   "metadata": {},
   "outputs": [],
   "source": [
    "import pandas as pd\n",
    "import numpy as np\n",
    "from sklearn.datasets import make_regression\n",
    "from sklearn.metrics import mean_absolute_error\n",
    "from sklearn.tree import DecisionTreeRegressor"
   ]
  },
  {
   "cell_type": "code",
   "execution_count": 108,
   "id": "ae2ce70c",
   "metadata": {},
   "outputs": [],
   "source": [
    "X, y = make_regression(n_samples=10, n_features=3)                         # Генерируем массив из X = 10х3 и у"
   ]
  },
  {
   "cell_type": "code",
   "execution_count": 109,
   "id": "ccb1a347",
   "metadata": {},
   "outputs": [],
   "source": [
    "df = pd.DataFrame(X)                                                       # Переводим значения Х массива в датафрэйм\n",
    "df['y_true'] = y                                                           # Добавляем в датафрэйм значения y\n",
    "df['y_pred_0'] = df['y_true'].mean()                                       # Пусть y.mean есть наши реальные значения \n",
    "df['residual_0'] = df['y_true'] - df['y_pred_0']                           # Cчитаем дельту между предсказ. значением и реальным"
   ]
  },
  {
   "cell_type": "code",
   "execution_count": 110,
   "id": "f899e6cb",
   "metadata": {},
   "outputs": [
    {
     "data": {
      "text/html": [
       "<div>\n",
       "<style scoped>\n",
       "    .dataframe tbody tr th:only-of-type {\n",
       "        vertical-align: middle;\n",
       "    }\n",
       "\n",
       "    .dataframe tbody tr th {\n",
       "        vertical-align: top;\n",
       "    }\n",
       "\n",
       "    .dataframe thead th {\n",
       "        text-align: right;\n",
       "    }\n",
       "</style>\n",
       "<table border=\"1\" class=\"dataframe\">\n",
       "  <thead>\n",
       "    <tr style=\"text-align: right;\">\n",
       "      <th></th>\n",
       "      <th>0</th>\n",
       "      <th>1</th>\n",
       "      <th>2</th>\n",
       "      <th>y_true</th>\n",
       "      <th>y_pred_0</th>\n",
       "      <th>residual_0</th>\n",
       "    </tr>\n",
       "  </thead>\n",
       "  <tbody>\n",
       "    <tr>\n",
       "      <th>0</th>\n",
       "      <td>1.284447</td>\n",
       "      <td>0.460428</td>\n",
       "      <td>0.096875</td>\n",
       "      <td>130.664830</td>\n",
       "      <td>63.631733</td>\n",
       "      <td>67.033097</td>\n",
       "    </tr>\n",
       "    <tr>\n",
       "      <th>1</th>\n",
       "      <td>0.826641</td>\n",
       "      <td>-1.171208</td>\n",
       "      <td>-0.479216</td>\n",
       "      <td>-36.837100</td>\n",
       "      <td>63.631733</td>\n",
       "      <td>-100.468832</td>\n",
       "    </tr>\n",
       "    <tr>\n",
       "      <th>2</th>\n",
       "      <td>-0.435551</td>\n",
       "      <td>0.105178</td>\n",
       "      <td>-1.119234</td>\n",
       "      <td>-76.072962</td>\n",
       "      <td>63.631733</td>\n",
       "      <td>-139.704695</td>\n",
       "    </tr>\n",
       "    <tr>\n",
       "      <th>3</th>\n",
       "      <td>1.274032</td>\n",
       "      <td>0.148467</td>\n",
       "      <td>-0.205888</td>\n",
       "      <td>95.724433</td>\n",
       "      <td>63.631733</td>\n",
       "      <td>32.092701</td>\n",
       "    </tr>\n",
       "    <tr>\n",
       "      <th>4</th>\n",
       "      <td>0.078634</td>\n",
       "      <td>1.438853</td>\n",
       "      <td>-0.374066</td>\n",
       "      <td>83.663558</td>\n",
       "      <td>63.631733</td>\n",
       "      <td>20.031825</td>\n",
       "    </tr>\n",
       "    <tr>\n",
       "      <th>5</th>\n",
       "      <td>0.433895</td>\n",
       "      <td>0.594762</td>\n",
       "      <td>1.009382</td>\n",
       "      <td>117.037984</td>\n",
       "      <td>63.631733</td>\n",
       "      <td>53.406252</td>\n",
       "    </tr>\n",
       "    <tr>\n",
       "      <th>6</th>\n",
       "      <td>-1.248030</td>\n",
       "      <td>0.266852</td>\n",
       "      <td>0.046767</td>\n",
       "      <td>-73.633025</td>\n",
       "      <td>63.631733</td>\n",
       "      <td>-137.264757</td>\n",
       "    </tr>\n",
       "    <tr>\n",
       "      <th>7</th>\n",
       "      <td>1.524676</td>\n",
       "      <td>0.596770</td>\n",
       "      <td>-0.768530</td>\n",
       "      <td>118.595153</td>\n",
       "      <td>63.631733</td>\n",
       "      <td>54.963421</td>\n",
       "    </tr>\n",
       "    <tr>\n",
       "      <th>8</th>\n",
       "      <td>0.476642</td>\n",
       "      <td>1.646603</td>\n",
       "      <td>1.076072</td>\n",
       "      <td>192.423647</td>\n",
       "      <td>63.631733</td>\n",
       "      <td>128.791914</td>\n",
       "    </tr>\n",
       "    <tr>\n",
       "      <th>9</th>\n",
       "      <td>1.891547</td>\n",
       "      <td>-0.913786</td>\n",
       "      <td>0.076755</td>\n",
       "      <td>84.750807</td>\n",
       "      <td>63.631733</td>\n",
       "      <td>21.119074</td>\n",
       "    </tr>\n",
       "  </tbody>\n",
       "</table>\n",
       "</div>"
      ],
      "text/plain": [
       "          0         1         2      y_true   y_pred_0  residual_0\n",
       "0  1.284447  0.460428  0.096875  130.664830  63.631733   67.033097\n",
       "1  0.826641 -1.171208 -0.479216  -36.837100  63.631733 -100.468832\n",
       "2 -0.435551  0.105178 -1.119234  -76.072962  63.631733 -139.704695\n",
       "3  1.274032  0.148467 -0.205888   95.724433  63.631733   32.092701\n",
       "4  0.078634  1.438853 -0.374066   83.663558  63.631733   20.031825\n",
       "5  0.433895  0.594762  1.009382  117.037984  63.631733   53.406252\n",
       "6 -1.248030  0.266852  0.046767  -73.633025  63.631733 -137.264757\n",
       "7  1.524676  0.596770 -0.768530  118.595153  63.631733   54.963421\n",
       "8  0.476642  1.646603  1.076072  192.423647  63.631733  128.791914\n",
       "9  1.891547 -0.913786  0.076755   84.750807  63.631733   21.119074"
      ]
     },
     "execution_count": 110,
     "metadata": {},
     "output_type": "execute_result"
    }
   ],
   "source": [
    "df"
   ]
  },
  {
   "cell_type": "code",
   "execution_count": 111,
   "id": "26c1f87a",
   "metadata": {},
   "outputs": [
    {
     "data": {
      "text/plain": [
       "75.48765690683328"
      ]
     },
     "execution_count": 111,
     "metadata": {},
     "output_type": "execute_result"
    }
   ],
   "source": [
    "mean_absolute_error(df['y_true'], df['y_pred_0'])                             # Считаем ошибку"
   ]
  },
  {
   "cell_type": "code",
   "execution_count": 112,
   "id": "aadb6d56",
   "metadata": {},
   "outputs": [],
   "source": [
    "nu = 0.1                                                                      # Задаем learning rate (скорость обучения)\n",
    "tree_1 = DecisionTreeRegressor(max_depth=1)                                   # Создаем дерево с глубиной=1\n",
    "tree_1.fit(df[[0,1,2]], df['residual_0'])                                     # Обучаем на наших фичах и дельте\n",
    "df['y_pred_1'] = tree_1.predict(df[[0,1,2]])                                  # Предсказываем значения\n",
    "df['y_pred_1'] = df['y_pred_0'] + nu*df['y_pred_1']                           # К предсказанному значению на предыдущем шаге \n",
    "                                                                              # прибавляем взвеш.новое предсказанное значение"
   ]
  },
  {
   "cell_type": "code",
   "execution_count": 113,
   "id": "4d05e12e",
   "metadata": {},
   "outputs": [
    {
     "data": {
      "text/plain": [
       "70.64069149096666"
      ]
     },
     "execution_count": 113,
     "metadata": {},
     "output_type": "execute_result"
    }
   ],
   "source": [
    "mean_absolute_error(df['y_true'], df['y_pred_1'])                             # Наблюдаем уменьшение ошибки"
   ]
  },
  {
   "cell_type": "code",
   "execution_count": 114,
   "id": "f97aaf79",
   "metadata": {},
   "outputs": [],
   "source": [
    "df = df[[0, 1, 2, 'y_true']].copy()               # Откатываемся к исходным данным, чтобы в дальнейшем зациклировать процедуру"
   ]
  },
  {
   "cell_type": "code",
   "execution_count": 122,
   "id": "1527a0d4",
   "metadata": {},
   "outputs": [
    {
     "name": "stdout",
     "output_type": "stream",
     "text": [
      "70.64069149096666\n",
      "66.2784226166867\n",
      "62.78238596766869\n",
      "59.06027945200945\n",
      "56.0753182154924\n",
      "53.35332461008467\n",
      "51.65190925019787\n",
      "49.062396917904984\n",
      "46.83731553749053\n",
      "45.44494890124686\n"
     ]
    }
   ],
   "source": [
    "n = 10                                                                        # Задаем кол-во деревьев\n",
    "trees = []                                                                    # Создаем список с будущими деревьями\n",
    "df['y_pred'] = df['y_true'].mean()\n",
    "\n",
    "for i in range(n):\n",
    "    df['residual'] = df['y_true'] - df['y_pred']\n",
    "    tree = DecisionTreeRegressor(max_depth=1)                            \n",
    "    tree.fit(df[[0,1,2]], df['residual'])                         \n",
    "    df['y_pred'] += nu*tree.predict(df[[0,1,2]])\n",
    "    trees.append(tree)\n",
    "    print(mean_absolute_error(df['y_true'], df['y_pred']))                    # Наблюдаем уменьшение ошибки"
   ]
  },
  {
   "cell_type": "code",
   "execution_count": null,
   "id": "8129ef8c",
   "metadata": {},
   "outputs": [],
   "source": []
  }
 ],
 "metadata": {
  "kernelspec": {
   "display_name": "Python 3 (ipykernel)",
   "language": "python",
   "name": "python3"
  },
  "language_info": {
   "codemirror_mode": {
    "name": "ipython",
    "version": 3
   },
   "file_extension": ".py",
   "mimetype": "text/x-python",
   "name": "python",
   "nbconvert_exporter": "python",
   "pygments_lexer": "ipython3",
   "version": "3.9.13"
  }
 },
 "nbformat": 4,
 "nbformat_minor": 5
}
