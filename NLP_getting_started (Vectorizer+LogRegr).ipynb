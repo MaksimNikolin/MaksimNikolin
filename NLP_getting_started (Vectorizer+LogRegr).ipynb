{
 "cells": [
  {
   "cell_type": "markdown",
   "id": "4eb75446",
   "metadata": {},
   "source": [
    "## Import"
   ]
  },
  {
   "cell_type": "code",
   "execution_count": 1,
   "id": "b4a19e2c",
   "metadata": {},
   "outputs": [],
   "source": [
    "import warnings\n",
    "warnings.filterwarnings('ignore')\n",
    "\n",
    "import numpy as np\n",
    "import pandas as pd\n",
    "from matplotlib import pyplot as plt\n",
    "import nltk\n",
    "import string\n",
    "\n",
    "from nltk.corpus import stopwords\n",
    "from nltk.tokenize import word_tokenize\n",
    "from nltk.stem import SnowballStemmer\n",
    "\n",
    "from sklearn.pipeline import Pipeline\n",
    "from sklearn.model_selection import train_test_split, GridSearchCV\n",
    "from sklearn.linear_model import LogisticRegression\n",
    "from sklearn.feature_extraction.text import TfidfVectorizer\n",
    "from sklearn.metrics import precision_score, recall_score, precision_recall_curve, plot_precision_recall_curve"
   ]
  },
  {
   "cell_type": "code",
   "execution_count": 2,
   "id": "560be1e2",
   "metadata": {},
   "outputs": [],
   "source": [
    "rootpath = r\"~\\OneDrive\\Desktop\\Programming\\DS\\datasets\\nlp_getting_started\"\n",
    "train = pd.read_csv(rootpath + \"/train.csv\")\n",
    "test = pd.read_csv(rootpath + \"/test.csv\")\n",
    "sub = pd.read_csv(rootpath + \"/sample_submission.csv\")"
   ]
  },
  {
   "cell_type": "code",
   "execution_count": 3,
   "id": "0b8eddd9",
   "metadata": {},
   "outputs": [
    {
     "data": {
      "text/html": [
       "<div>\n",
       "<style scoped>\n",
       "    .dataframe tbody tr th:only-of-type {\n",
       "        vertical-align: middle;\n",
       "    }\n",
       "\n",
       "    .dataframe tbody tr th {\n",
       "        vertical-align: top;\n",
       "    }\n",
       "\n",
       "    .dataframe thead th {\n",
       "        text-align: right;\n",
       "    }\n",
       "</style>\n",
       "<table border=\"1\" class=\"dataframe\">\n",
       "  <thead>\n",
       "    <tr style=\"text-align: right;\">\n",
       "      <th></th>\n",
       "      <th>id</th>\n",
       "      <th>keyword</th>\n",
       "      <th>location</th>\n",
       "      <th>text</th>\n",
       "      <th>target</th>\n",
       "    </tr>\n",
       "  </thead>\n",
       "  <tbody>\n",
       "    <tr>\n",
       "      <th>0</th>\n",
       "      <td>1</td>\n",
       "      <td>NaN</td>\n",
       "      <td>NaN</td>\n",
       "      <td>Our Deeds are the Reason of this #earthquake M...</td>\n",
       "      <td>1</td>\n",
       "    </tr>\n",
       "    <tr>\n",
       "      <th>1</th>\n",
       "      <td>4</td>\n",
       "      <td>NaN</td>\n",
       "      <td>NaN</td>\n",
       "      <td>Forest fire near La Ronge Sask. Canada</td>\n",
       "      <td>1</td>\n",
       "    </tr>\n",
       "    <tr>\n",
       "      <th>2</th>\n",
       "      <td>5</td>\n",
       "      <td>NaN</td>\n",
       "      <td>NaN</td>\n",
       "      <td>All residents asked to 'shelter in place' are ...</td>\n",
       "      <td>1</td>\n",
       "    </tr>\n",
       "    <tr>\n",
       "      <th>3</th>\n",
       "      <td>6</td>\n",
       "      <td>NaN</td>\n",
       "      <td>NaN</td>\n",
       "      <td>13,000 people receive #wildfires evacuation or...</td>\n",
       "      <td>1</td>\n",
       "    </tr>\n",
       "    <tr>\n",
       "      <th>4</th>\n",
       "      <td>7</td>\n",
       "      <td>NaN</td>\n",
       "      <td>NaN</td>\n",
       "      <td>Just got sent this photo from Ruby #Alaska as ...</td>\n",
       "      <td>1</td>\n",
       "    </tr>\n",
       "  </tbody>\n",
       "</table>\n",
       "</div>"
      ],
      "text/plain": [
       "   id keyword location                                               text  \\\n",
       "0   1     NaN      NaN  Our Deeds are the Reason of this #earthquake M...   \n",
       "1   4     NaN      NaN             Forest fire near La Ronge Sask. Canada   \n",
       "2   5     NaN      NaN  All residents asked to 'shelter in place' are ...   \n",
       "3   6     NaN      NaN  13,000 people receive #wildfires evacuation or...   \n",
       "4   7     NaN      NaN  Just got sent this photo from Ruby #Alaska as ...   \n",
       "\n",
       "   target  \n",
       "0       1  \n",
       "1       1  \n",
       "2       1  \n",
       "3       1  \n",
       "4       1  "
      ]
     },
     "execution_count": 3,
     "metadata": {},
     "output_type": "execute_result"
    }
   ],
   "source": [
    "train.head()"
   ]
  },
  {
   "cell_type": "markdown",
   "id": "d11bd831",
   "metadata": {},
   "source": [
    "## Preprocessing"
   ]
  },
  {
   "cell_type": "code",
   "execution_count": 4,
   "id": "1b24fa7d",
   "metadata": {},
   "outputs": [],
   "source": [
    "train = train.drop(['keyword', 'location', 'id'], axis = 1)"
   ]
  },
  {
   "cell_type": "code",
   "execution_count": 5,
   "id": "dea343b4",
   "metadata": {},
   "outputs": [],
   "source": [
    "train_df, test_df = train_test_split(train, test_size=0.2)"
   ]
  },
  {
   "cell_type": "code",
   "execution_count": 6,
   "id": "d716b56c",
   "metadata": {},
   "outputs": [],
   "source": [
    "stop_words = stopwords.words(\"english\")\n",
    "snowball = SnowballStemmer(language=\"english\")\n",
    "\n",
    "def tokenize_sentence (sentence: str, remove_stop_words: bool = True):\n",
    "    tokens = word_tokenize(sentence, language=\"english\")\n",
    "    tokens = [i for i in tokens if i not in string.punctuation]          # removing punctuation\n",
    "    if remove_stop_words:                                                # removing stop words\n",
    "        tokens = [i for i in tokens if i not in stop_words]\n",
    "    tokens = [snowball.stem(i) for i in tokens]                          # removing the endings\n",
    "    return tokens"
   ]
  },
  {
   "cell_type": "code",
   "execution_count": 7,
   "id": "c8d6e0fd",
   "metadata": {},
   "outputs": [],
   "source": [
    "vectorizer = TfidfVectorizer(tokenizer=lambda x: tokenize_sentence(x, remove_stop_words = True))"
   ]
  },
  {
   "cell_type": "code",
   "execution_count": 8,
   "id": "e9f25f4f",
   "metadata": {},
   "outputs": [],
   "source": [
    "features = vectorizer.fit_transform(train_df[\"text\"])"
   ]
  },
  {
   "cell_type": "markdown",
   "id": "d72cb1f2",
   "metadata": {},
   "source": [
    "## Model"
   ]
  },
  {
   "cell_type": "code",
   "execution_count": 9,
   "id": "53d8c3eb",
   "metadata": {},
   "outputs": [
    {
     "data": {
      "text/plain": [
       "LogisticRegression(random_state=0)"
      ]
     },
     "execution_count": 9,
     "metadata": {},
     "output_type": "execute_result"
    }
   ],
   "source": [
    "model = LogisticRegression(random_state=0)\n",
    "model.fit(features, train_df[\"target\"])"
   ]
  },
  {
   "cell_type": "code",
   "execution_count": 10,
   "id": "44aaf65b",
   "metadata": {},
   "outputs": [
    {
     "data": {
      "text/plain": [
       "Pipeline(steps=[('vectorizer',\n",
       "                 TfidfVectorizer(tokenizer=<function <lambda> at 0x000001DF0EF9AEE0>)),\n",
       "                ('model', LogisticRegression(random_state=0))])"
      ]
     },
     "execution_count": 10,
     "metadata": {},
     "output_type": "execute_result"
    }
   ],
   "source": [
    "# Simple model of Logistic Regression with vectorizer\n",
    "model_pipeline = Pipeline([\n",
    "    (\"vectorizer\", TfidfVectorizer(tokenizer=lambda x: tokenize_sentence(x, remove_stop_words = True))),\n",
    "    (\"model\", LogisticRegression(random_state=0))\n",
    "])\n",
    "model_pipeline.fit(train_df[\"text\"], train_df[\"target\"])"
   ]
  },
  {
   "cell_type": "code",
   "execution_count": 11,
   "id": "e3be780f",
   "metadata": {},
   "outputs": [
    {
     "data": {
      "text/plain": [
       "0.817717206132879"
      ]
     },
     "execution_count": 11,
     "metadata": {},
     "output_type": "execute_result"
    }
   ],
   "source": [
    "precision_score(y_true=test_df[\"target\"], y_pred=model_pipeline.predict(test_df[\"text\"])) "
   ]
  },
  {
   "cell_type": "code",
   "execution_count": 12,
   "id": "3c21d030",
   "metadata": {},
   "outputs": [
    {
     "data": {
      "text/plain": [
       "0.7239819004524887"
      ]
     },
     "execution_count": 12,
     "metadata": {},
     "output_type": "execute_result"
    }
   ],
   "source": [
    "recall_score(y_true=test_df[\"target\"], y_pred=model_pipeline.predict(test_df[\"text\"]))"
   ]
  },
  {
   "cell_type": "code",
   "execution_count": 13,
   "id": "5804e330",
   "metadata": {},
   "outputs": [
    {
     "data": {
      "text/plain": [
       "<sklearn.metrics._plot.precision_recall_curve.PrecisionRecallDisplay at 0x1df0985a6a0>"
      ]
     },
     "execution_count": 13,
     "metadata": {},
     "output_type": "execute_result"
    },
    {
     "data": {
      "image/png": "[encoded data removed]",
      "text/plain": [
       "<Figure size 640x480 with 1 Axes>"
      ]
     },
     "metadata": {},
     "output_type": "display_data"
    }
   ],
   "source": [
    "plot_precision_recall_curve(estimator=model_pipeline, X=test_df[\"text\"], y=test_df[\"target\"])"
   ]
  },
  {
   "cell_type": "code",
   "execution_count": 16,
   "id": "c8f973b1",
   "metadata": {},
   "outputs": [
    {
     "name": "stdout",
     "output_type": "stream",
     "text": [
      "Fitting 5 folds for each of 3 candidates, totalling 15 fits\n",
      "[CV 1/5] END ...............................C=2;, score=0.805 total time=   0.2s\n",
      "[CV 2/5] END ...............................C=2;, score=0.802 total time=   0.0s\n",
      "[CV 3/5] END ...............................C=2;, score=0.784 total time=   0.0s\n",
      "[CV 4/5] END ...............................C=2;, score=0.775 total time=   0.0s\n",
      "[CV 5/5] END ...............................C=2;, score=0.789 total time=   0.1s\n",
      "[CV 1/5] END ............................C=2.05;, score=0.805 total time=   0.2s\n",
      "[CV 2/5] END ............................C=2.05;, score=0.802 total time=   0.0s\n",
      "[CV 3/5] END ............................C=2.05;, score=0.783 total time=   0.0s\n",
      "[CV 4/5] END ............................C=2.05;, score=0.775 total time=   0.0s\n",
      "[CV 5/5] END ............................C=2.05;, score=0.789 total time=   0.2s\n",
      "[CV 1/5] END .............................C=2.1;, score=0.805 total time=   0.0s\n",
      "[CV 2/5] END .............................C=2.1;, score=0.804 total time=   0.0s\n",
      "[CV 3/5] END .............................C=2.1;, score=0.782 total time=   0.0s\n",
      "[CV 4/5] END .............................C=2.1;, score=0.777 total time=   0.0s\n",
      "[CV 5/5] END .............................C=2.1;, score=0.789 total time=   0.2s\n"
     ]
    },
    {
     "data": {
      "text/plain": [
       "Pipeline(steps=[('vectorizer',\n",
       "                 TfidfVectorizer(tokenizer=<function <lambda> at 0x000001DF08467DC0>)),\n",
       "                ('model',\n",
       "                 GridSearchCV(cv=5,\n",
       "                              estimator=LogisticRegression(random_state=0),\n",
       "                              param_grid={'C': [2, 2.05, 2.1]}, verbose=4))])"
      ]
     },
     "execution_count": 16,
     "metadata": {},
     "output_type": "execute_result"
    }
   ],
   "source": [
    "# Upgrade the model using Huperparametrs\n",
    "model_grid_pipeline = Pipeline([\n",
    "    (\"vectorizer\", TfidfVectorizer(tokenizer=lambda x: tokenize_sentence(x, remove_stop_words = True))),\n",
    "    (\"model\", \n",
    "     GridSearchCV(\n",
    "         LogisticRegression(random_state=0),                       \n",
    "         param_grid={'C' : [2, 2.05, 2.1]},\n",
    "                    cv=5,\n",
    "                    verbose=4))\n",
    "])\n",
    "model_grid_pipeline.fit(train_df[\"text\"], train_df[\"target\"])"
   ]
  },
  {
   "cell_type": "code",
   "execution_count": 17,
   "id": "5a8d23d2",
   "metadata": {},
   "outputs": [
    {
     "data": {
      "text/plain": [
       "<sklearn.metrics._plot.precision_recall_curve.PrecisionRecallDisplay at 0x1df10b30f70>"
      ]
     },
     "execution_count": 17,
     "metadata": {},
     "output_type": "execute_result"
    },
    {
     "data": {
      "image/png": "[encoded data removed]",
      "text/plain": [
       "<Figure size 640x480 with 1 Axes>"
      ]
     },
     "metadata": {},
     "output_type": "display_data"
    }
   ],
   "source": [
    "plot_precision_recall_curve(estimator=model_grid_pipeline, X=test_df[\"text\"], y=test_df[\"target\"])"
   ]
  },
  {
   "cell_type": "code",
   "execution_count": 18,
   "id": "212fee8b",
   "metadata": {},
   "outputs": [
    {
     "data": {
      "text/plain": [
       "0.8089700996677741"
      ]
     },
     "execution_count": 18,
     "metadata": {},
     "output_type": "execute_result"
    }
   ],
   "source": [
    "precision_score(y_true=test_df[\"target\"], y_pred=model_grid_pipeline.predict(test_df[\"text\"]))"
   ]
  },
  {
   "cell_type": "code",
   "execution_count": 19,
   "id": "979bcaf8",
   "metadata": {},
   "outputs": [
    {
     "data": {
      "text/plain": [
       "0.7345399698340875"
      ]
     },
     "execution_count": 19,
     "metadata": {},
     "output_type": "execute_result"
    }
   ],
   "source": [
    "recall_score(y_true=test_df[\"target\"], y_pred=model_grid_pipeline.predict(test_df[\"text\"]))"
   ]
  },
  {
   "cell_type": "markdown",
   "id": "74121445",
   "metadata": {},
   "source": [
    "## Submission"
   ]
  },
  {
   "cell_type": "code",
   "execution_count": 20,
   "id": "6e4d1c40",
   "metadata": {},
   "outputs": [],
   "source": [
    "id_col = test['id']\n",
    "test = test.drop(['keyword', 'location', 'id'], axis = 1)"
   ]
  },
  {
   "cell_type": "code",
   "execution_count": 21,
   "id": "729c6e37",
   "metadata": {},
   "outputs": [],
   "source": [
    "submission_test_pred = model_grid_pipeline.predict(test[\"text\"])"
   ]
  },
  {
   "cell_type": "code",
   "execution_count": 22,
   "id": "bbe63d4c",
   "metadata": {},
   "outputs": [],
   "source": [
    "submission_df = pd.DataFrame({\n",
    "                  \"id\": id_col, \n",
    "                  \"target\": submission_test_pred})"
   ]
  },
  {
   "cell_type": "code",
   "execution_count": 23,
   "id": "6c4bb2b3",
   "metadata": {},
   "outputs": [],
   "source": [
    "submission_df.to_csv(rootpath + \"/submission.csv\", index=False)"
   ]
  }
 ],
 "metadata": {
  "kernelspec": {
   "display_name": "Python 3 (ipykernel)",
   "language": "python",
   "name": "python3"
  },
  "language_info": {
   "codemirror_mode": {
    "name": "ipython",
    "version": 3
   },
   "file_extension": ".py",
   "mimetype": "text/x-python",
   "name": "python",
   "nbconvert_exporter": "python",
   "pygments_lexer": "ipython3",
   "version": "3.9.13"
  }
 },
 "nbformat": 4,
 "nbformat_minor": 5
}
