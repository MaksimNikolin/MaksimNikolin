{
 "cells": [
  {
   "cell_type": "code",
   "execution_count": 2,
   "id": "2c470f53",
   "metadata": {},
   "outputs": [],
   "source": [
    "import pandas as pd #call pandas\n",
    "import numpy as np\n",
    "from sklearn.datasets import make_regression\n",
    "from sklearn.metrics import mean_absolute_error\n",
    "from sklearn.tree import DecisionTreeRegressor"
   ]
  },
  {
   "cell_type": "code",
   "execution_count": 3,
   "id": "0aa5f1ec",
   "metadata": {},
   "outputs": [],
   "source": [
    "X, y = make_regression(n_samples=10, n_features=3)                    #generate array from X=10х3 and у"
   ]
  },
  {
   "cell_type": "code",
   "execution_count": 4,
   "id": "25d79d20",
   "metadata": {},
   "outputs": [],
   "source": [
    "df = pd.DataFrame(X)                                                  #converting array values to dataframe\n",
    "df['y_true'] = y                                                      #adding values y to the dataframe\n",
    "df['y_pred_0'] = df['y_true'].mean()                                  #let y.mean are the real values \n",
    "df['residual_0'] = df['y_true'] - df['y_pred_0']                      #count delta between the meaning and real values"
   ]
  },
  {
   "cell_type": "code",
   "execution_count": 5,
   "id": "7a11ecdc",
   "metadata": {},
   "outputs": [
    {
     "data": {
      "text/html": [
       "<div>\n",
       "<style scoped>\n",
       "    .dataframe tbody tr th:only-of-type {\n",
       "        vertical-align: middle;\n",
       "    }\n",
       "\n",
       "    .dataframe tbody tr th {\n",
       "        vertical-align: top;\n",
       "    }\n",
       "\n",
       "    .dataframe thead th {\n",
       "        text-align: right;\n",
       "    }\n",
       "</style>\n",
       "<table border=\"1\" class=\"dataframe\">\n",
       "  <thead>\n",
       "    <tr style=\"text-align: right;\">\n",
       "      <th></th>\n",
       "      <th>0</th>\n",
       "      <th>1</th>\n",
       "      <th>2</th>\n",
       "      <th>y_true</th>\n",
       "      <th>y_pred_0</th>\n",
       "      <th>residual_0</th>\n",
       "    </tr>\n",
       "  </thead>\n",
       "  <tbody>\n",
       "    <tr>\n",
       "      <th>0</th>\n",
       "      <td>-1.564882</td>\n",
       "      <td>2.231376</td>\n",
       "      <td>0.395625</td>\n",
       "      <td>-12.298057</td>\n",
       "      <td>8.514935</td>\n",
       "      <td>-20.812992</td>\n",
       "    </tr>\n",
       "    <tr>\n",
       "      <th>1</th>\n",
       "      <td>0.946716</td>\n",
       "      <td>0.772558</td>\n",
       "      <td>-0.111961</td>\n",
       "      <td>18.823171</td>\n",
       "      <td>8.514935</td>\n",
       "      <td>10.308236</td>\n",
       "    </tr>\n",
       "    <tr>\n",
       "      <th>2</th>\n",
       "      <td>-0.573719</td>\n",
       "      <td>1.916861</td>\n",
       "      <td>0.277223</td>\n",
       "      <td>5.090341</td>\n",
       "      <td>8.514935</td>\n",
       "      <td>-3.424594</td>\n",
       "    </tr>\n",
       "    <tr>\n",
       "      <th>3</th>\n",
       "      <td>0.041428</td>\n",
       "      <td>1.417834</td>\n",
       "      <td>-0.123068</td>\n",
       "      <td>-3.013609</td>\n",
       "      <td>8.514935</td>\n",
       "      <td>-11.528544</td>\n",
       "    </tr>\n",
       "    <tr>\n",
       "      <th>4</th>\n",
       "      <td>-2.038904</td>\n",
       "      <td>-0.005128</td>\n",
       "      <td>-0.506557</td>\n",
       "      <td>-79.049995</td>\n",
       "      <td>8.514935</td>\n",
       "      <td>-87.564930</td>\n",
       "    </tr>\n",
       "    <tr>\n",
       "      <th>5</th>\n",
       "      <td>0.765464</td>\n",
       "      <td>-0.693268</td>\n",
       "      <td>-0.633712</td>\n",
       "      <td>-17.817082</td>\n",
       "      <td>8.514935</td>\n",
       "      <td>-26.332016</td>\n",
       "    </tr>\n",
       "    <tr>\n",
       "      <th>6</th>\n",
       "      <td>1.937908</td>\n",
       "      <td>2.162297</td>\n",
       "      <td>-0.073811</td>\n",
       "      <td>48.389089</td>\n",
       "      <td>8.514935</td>\n",
       "      <td>39.874154</td>\n",
       "    </tr>\n",
       "    <tr>\n",
       "      <th>7</th>\n",
       "      <td>-0.747410</td>\n",
       "      <td>-0.103150</td>\n",
       "      <td>0.408233</td>\n",
       "      <td>4.052450</td>\n",
       "      <td>8.514935</td>\n",
       "      <td>-4.462485</td>\n",
       "    </tr>\n",
       "    <tr>\n",
       "      <th>8</th>\n",
       "      <td>-0.368511</td>\n",
       "      <td>-1.426584</td>\n",
       "      <td>0.552869</td>\n",
       "      <td>18.913170</td>\n",
       "      <td>8.514935</td>\n",
       "      <td>10.398235</td>\n",
       "    </tr>\n",
       "    <tr>\n",
       "      <th>9</th>\n",
       "      <td>1.127155</td>\n",
       "      <td>0.013728</td>\n",
       "      <td>1.322606</td>\n",
       "      <td>102.059872</td>\n",
       "      <td>8.514935</td>\n",
       "      <td>93.544937</td>\n",
       "    </tr>\n",
       "  </tbody>\n",
       "</table>\n",
       "</div>"
      ],
      "text/plain": [
       "          0         1         2      y_true  y_pred_0  residual_0\n",
       "0 -1.564882  2.231376  0.395625  -12.298057  8.514935  -20.812992\n",
       "1  0.946716  0.772558 -0.111961   18.823171  8.514935   10.308236\n",
       "2 -0.573719  1.916861  0.277223    5.090341  8.514935   -3.424594\n",
       "3  0.041428  1.417834 -0.123068   -3.013609  8.514935  -11.528544\n",
       "4 -2.038904 -0.005128 -0.506557  -79.049995  8.514935  -87.564930\n",
       "5  0.765464 -0.693268 -0.633712  -17.817082  8.514935  -26.332016\n",
       "6  1.937908  2.162297 -0.073811   48.389089  8.514935   39.874154\n",
       "7 -0.747410 -0.103150  0.408233    4.052450  8.514935   -4.462485\n",
       "8 -0.368511 -1.426584  0.552869   18.913170  8.514935   10.398235\n",
       "9  1.127155  0.013728  1.322606  102.059872  8.514935   93.544937"
      ]
     },
     "execution_count": 5,
     "metadata": {},
     "output_type": "execute_result"
    }
   ],
   "source": [
    "df"
   ]
  },
  {
   "cell_type": "code",
   "execution_count": 6,
   "id": "bb6d8f14",
   "metadata": {},
   "outputs": [
    {
     "data": {
      "text/plain": [
       "30.82511233833076"
      ]
     },
     "execution_count": 6,
     "metadata": {},
     "output_type": "execute_result"
    }
   ],
   "source": [
    "mean_absolute_error(df['y_true'], df['y_pred_0'])                     #count error"
   ]
  },
  {
   "cell_type": "code",
   "execution_count": 7,
   "id": "15876444",
   "metadata": {},
   "outputs": [],
   "source": [
    "nu = 0.1                                                              #setting learning rate\n",
    "tree_1 = DecisionTreeRegressor(max_depth=1)                           #creating a tree with depth=1\n",
    "tree_1.fit(df[[0,1,2]], df['residual_0'])                             #teach on our features and delta\n",
    "df['y_pred_1'] = tree_1.predict(df[[0,1,2]])                          #predict values\n",
    "\n",
    "#to the predicted value in the previous step, we add the new weighting predicted value\n",
    "df['y_pred_1'] = df['y_pred_0'] + nu*df['y_pred_1']"
   ]
  },
  {
   "cell_type": "code",
   "execution_count": 8,
   "id": "0ddd6a18",
   "metadata": {},
   "outputs": [
    {
     "data": {
      "text/plain": [
       "28.823825974122332"
      ]
     },
     "execution_count": 8,
     "metadata": {},
     "output_type": "execute_result"
    }
   ],
   "source": [
    "mean_absolute_error(df['y_true'], df['y_pred_1'])                     #observe a decrease in the error"
   ]
  },
  {
   "cell_type": "code",
   "execution_count": 9,
   "id": "d5a7d4ce",
   "metadata": {},
   "outputs": [],
   "source": [
    "df = df[[0, 1, 2, 'y_true']].copy()           #roll back to the primary data in order to loop the process in the future"
   ]
  },
  {
   "cell_type": "code",
   "execution_count": 10,
   "id": "428f1c94",
   "metadata": {},
   "outputs": [
    {
     "name": "stdout",
     "output_type": "stream",
     "text": [
      "28.823825974122332\n",
      "27.022668246334735\n",
      "26.272479566421804\n",
      "25.206714404495365\n",
      "24.539439149328736\n",
      "23.09376379870443\n",
      "22.18639753518856\n",
      "21.318139463422394\n",
      "20.774480289700982\n",
      "19.275376364628602\n"
     ]
    }
   ],
   "source": [
    "n = 10                                                                #setting the number of trees\n",
    "trees = []                                                            #creating a list with future trees\n",
    "df['y_pred'] = df['y_true'].mean()\n",
    "\n",
    "for i in range(n):\n",
    "    df['residual'] = df['y_true'] - df['y_pred']\n",
    "    tree = DecisionTreeRegressor(max_depth=1)                            \n",
    "    tree.fit(df[[0,1,2]], df['residual'])                         \n",
    "    df['y_pred'] += nu*tree.predict(df[[0,1,2]])\n",
    "    trees.append(tree)\n",
    "    print(mean_absolute_error(df['y_true'], df['y_pred']))            #observe a decrease in the error"
   ]
  }
 ],
 "metadata": {
  "kernelspec": {
   "display_name": "Python 3 (ipykernel)",
   "language": "python",
   "name": "python3"
  },
  "language_info": {
   "codemirror_mode": {
    "name": "ipython",
    "version": 3
   },
   "file_extension": ".py",
   "mimetype": "text/x-python",
   "name": "python",
   "nbconvert_exporter": "python",
   "pygments_lexer": "ipython3",
   "version": "3.9.13"
  }
 },
 "nbformat": 4,
 "nbformat_minor": 5
}
